{
  "nbformat": 4,
  "nbformat_minor": 0,
  "metadata": {
    "colab": {
      "provenance": []
    },
    "kernelspec": {
      "name": "python3",
      "display_name": "Python 3"
    },
    "language_info": {
      "name": "python"
    }
  },
  "cells": [
    {
      "cell_type": "code",
      "execution_count": 1,
      "metadata": {
        "id": "bnrs_QgIKoCN"
      },
      "outputs": [],
      "source": [
        "import tensorflow as tf\n",
        "from tensorflow.keras import layers, models\n",
        "import os\n",
        "import cv2\n",
        "import numpy as np\n",
        "from sklearn.model_selection import train_test_split"
      ]
    },
    {
      "cell_type": "code",
      "source": [
        "# 경로지정\n",
        "answer_path = '/content/drive/MyDrive/GDSC_AI/BARO/source/answer_jpg' # 동영상 프레임 단위로 짜른거\n",
        "wrong_path = '/content/drive/MyDrive/GDSC_AI/BARO/source/wrong_jpg' # 동영상 프레임 단위로 짜른거"
      ],
      "metadata": {
        "id": "fD5TpK-lLGyd"
      },
      "execution_count": 2,
      "outputs": []
    },
    {
      "cell_type": "code",
      "source": [
        "## 전처리\n",
        "\n",
        "def load_and_preprocess_images(folder_path, label, img_size=(28, 28)):\n",
        "    images = []\n",
        "    labels = []\n",
        "\n",
        "    for img_file in os.listdir(folder_path):\n",
        "        img_path = os.path.join(folder_path, img_file)\n",
        "        img = cv2.imread(img_path)\n",
        "        img = cv2.resize(img, img_size)\n",
        "        img = img / 255.0  # 정규화\n",
        "        images.append(img)\n",
        "        labels.append(label)\n",
        "\n",
        "    return images, labels"
      ],
      "metadata": {
        "id": "_oFnRvTvLZ9S"
      },
      "execution_count": 3,
      "outputs": []
    },
    {
      "cell_type": "code",
      "source": [
        "# label 할당(1값: 정상, 0값: 거북이)\n",
        "\n",
        "answer_images, answer_labels = load_and_preprocess_images(answer_path, label=1)\n",
        "wrong_images, wrong_labels = load_and_preprocess_images(wrong_path, label=0)"
      ],
      "metadata": {
        "id": "x0ZOe4oQLfPB"
      },
      "execution_count": 4,
      "outputs": []
    },
    {
      "cell_type": "code",
      "source": [
        "images = np.array(answer_images + wrong_images)\n",
        "labels = np.array(answer_labels + wrong_labels)"
      ],
      "metadata": {
        "id": "LBLPJW70Lq-B"
      },
      "execution_count": 5,
      "outputs": []
    },
    {
      "cell_type": "code",
      "source": [
        "X_train, X_test, y_train, y_test = train_test_split(images, labels, test_size=0.2, random_state=42)"
      ],
      "metadata": {
        "id": "LKBSIHDmS2tK"
      },
      "execution_count": 6,
      "outputs": []
    },
    {
      "cell_type": "code",
      "source": [
        "model = models.Sequential([\n",
        "    layers.Conv2D(32, (3, 3), activation='relu', input_shape=(28, 28, 3)),\n",
        "    layers.MaxPooling2D((2, 2)),\n",
        "    layers.Conv2D(64, (3, 3), activation='relu'),\n",
        "    layers.MaxPooling2D((2, 2)),\n",
        "    layers.Conv2D(64, (3, 3), activation='relu'),\n",
        "    layers.Flatten(),\n",
        "    layers.Dense(64, activation='relu'),\n",
        "    layers.Dense(1, activation='sigmoid')  # 이진 분류 위한 softmax에서 sigmoid로 변경\n",
        "])"
      ],
      "metadata": {
        "id": "S8cnYfzBLyrL",
        "colab": {
          "base_uri": "https://localhost:8080/"
        },
        "outputId": "09b4a3bd-2106-4229-b49e-a0769ab35f7b"
      },
      "execution_count": 7,
      "outputs": [
        {
          "output_type": "stream",
          "name": "stderr",
          "text": [
            "/usr/local/lib/python3.10/dist-packages/keras/src/layers/convolutional/base_conv.py:107: UserWarning: Do not pass an `input_shape`/`input_dim` argument to a layer. When using Sequential models, prefer using an `Input(shape)` object as the first layer in the model instead.\n",
            "  super().__init__(activity_regularizer=activity_regularizer, **kwargs)\n"
          ]
        }
      ]
    },
    {
      "cell_type": "code",
      "source": [
        "model.compile(optimizer='adam',\n",
        "              loss='binary_crossentropy',\n",
        "              metrics=['accuracy'])"
      ],
      "metadata": {
        "id": "fKFs3HP7L4y3"
      },
      "execution_count": 8,
      "outputs": []
    },
    {
      "cell_type": "code",
      "source": [
        "history = model.fit(X_train, y_train, epochs=10, validation_data=(X_test, y_test))"
      ],
      "metadata": {
        "colab": {
          "base_uri": "https://localhost:8080/"
        },
        "id": "JJ0GbZOkTj_I",
        "outputId": "a791fb9e-0d25-4f73-88e5-3efd1a9d8435"
      },
      "execution_count": 9,
      "outputs": [
        {
          "output_type": "stream",
          "name": "stdout",
          "text": [
            "Epoch 1/10\n",
            "\u001b[1m8/8\u001b[0m \u001b[32m━━━━━━━━━━━━━━━━━━━━\u001b[0m\u001b[37m\u001b[0m \u001b[1m2s\u001b[0m 57ms/step - accuracy: 0.4324 - loss: 0.7054 - val_accuracy: 0.5172 - val_loss: 0.6726\n",
            "Epoch 2/10\n",
            "\u001b[1m8/8\u001b[0m \u001b[32m━━━━━━━━━━━━━━━━━━━━\u001b[0m\u001b[37m\u001b[0m \u001b[1m0s\u001b[0m 49ms/step - accuracy: 0.6285 - loss: 0.6678 - val_accuracy: 0.8966 - val_loss: 0.6257\n",
            "Epoch 3/10\n",
            "\u001b[1m8/8\u001b[0m \u001b[32m━━━━━━━━━━━━━━━━━━━━\u001b[0m\u001b[37m\u001b[0m \u001b[1m1s\u001b[0m 48ms/step - accuracy: 0.7668 - loss: 0.6290 - val_accuracy: 0.8966 - val_loss: 0.5430\n",
            "Epoch 4/10\n",
            "\u001b[1m8/8\u001b[0m \u001b[32m━━━━━━━━━━━━━━━━━━━━\u001b[0m\u001b[37m\u001b[0m \u001b[1m1s\u001b[0m 46ms/step - accuracy: 0.8369 - loss: 0.5832 - val_accuracy: 0.8966 - val_loss: 0.4510\n",
            "Epoch 5/10\n",
            "\u001b[1m8/8\u001b[0m \u001b[32m━━━━━━━━━━━━━━━━━━━━\u001b[0m\u001b[37m\u001b[0m \u001b[1m0s\u001b[0m 49ms/step - accuracy: 0.8496 - loss: 0.5124 - val_accuracy: 0.8966 - val_loss: 0.3817\n",
            "Epoch 6/10\n",
            "\u001b[1m8/8\u001b[0m \u001b[32m━━━━━━━━━━━━━━━━━━━━\u001b[0m\u001b[37m\u001b[0m \u001b[1m1s\u001b[0m 53ms/step - accuracy: 0.8649 - loss: 0.3989 - val_accuracy: 0.9483 - val_loss: 0.2668\n",
            "Epoch 7/10\n",
            "\u001b[1m8/8\u001b[0m \u001b[32m━━━━━━━━━━━━━━━━━━━━\u001b[0m\u001b[37m\u001b[0m \u001b[1m0s\u001b[0m 48ms/step - accuracy: 0.8977 - loss: 0.3460 - val_accuracy: 0.9483 - val_loss: 0.1975\n",
            "Epoch 8/10\n",
            "\u001b[1m8/8\u001b[0m \u001b[32m━━━━━━━━━━━━━━━━━━━━\u001b[0m\u001b[37m\u001b[0m \u001b[1m1s\u001b[0m 53ms/step - accuracy: 0.8930 - loss: 0.3019 - val_accuracy: 0.8966 - val_loss: 0.2635\n",
            "Epoch 9/10\n",
            "\u001b[1m8/8\u001b[0m \u001b[32m━━━━━━━━━━━━━━━━━━━━\u001b[0m\u001b[37m\u001b[0m \u001b[1m1s\u001b[0m 39ms/step - accuracy: 0.9295 - loss: 0.2309 - val_accuracy: 0.9655 - val_loss: 0.1401\n",
            "Epoch 10/10\n",
            "\u001b[1m8/8\u001b[0m \u001b[32m━━━━━━━━━━━━━━━━━━━━\u001b[0m\u001b[37m\u001b[0m \u001b[1m1s\u001b[0m 27ms/step - accuracy: 0.9361 - loss: 0.1879 - val_accuracy: 0.9483 - val_loss: 0.1441\n"
          ]
        }
      ]
    },
    {
      "cell_type": "code",
      "source": [
        "test_loss, test_accuracy = model.evaluate(X_test, y_test, verbose=2)\n",
        "print('Test accuracy: ', test_accuracy)"
      ],
      "metadata": {
        "colab": {
          "base_uri": "https://localhost:8080/"
        },
        "id": "T0GzIMYOTtVx",
        "outputId": "b4cf38bb-3d9e-4c21-abea-1d86eddea7b6"
      },
      "execution_count": 13,
      "outputs": [
        {
          "output_type": "stream",
          "name": "stdout",
          "text": [
            "2/2 - 0s - 39ms/step - accuracy: 0.9483 - loss: 0.1441\n",
            "Test accuracy:  0.9482758641242981\n"
          ]
        }
      ]
    },
    {
      "cell_type": "code",
      "source": [
        "model.save(\"CNN_model.h5\")"
      ],
      "metadata": {
        "colab": {
          "base_uri": "https://localhost:8080/"
        },
        "id": "7I4fBNgzL80D",
        "outputId": "b9389472-721a-4c2f-dad2-518cb06df6a8"
      },
      "execution_count": null,
      "outputs": [
        {
          "output_type": "stream",
          "name": "stderr",
          "text": [
            "WARNING:absl:You are saving your model as an HDF5 file via `model.save()` or `keras.saving.save_model(model)`. This file format is considered legacy. We recommend using instead the native Keras format, e.g. `model.save('my_model.keras')` or `keras.saving.save_model(model, 'my_model.keras')`. \n"
          ]
        }
      ]
    },
    {
      "cell_type": "code",
      "source": [
        "model_tfl = tf.keras.models.load_model('/content/CNN_model.h5') # 모델 .h5 파일 형태로 저장"
      ],
      "metadata": {
        "id": "xoA07Ap4NzmK",
        "colab": {
          "base_uri": "https://localhost:8080/"
        },
        "outputId": "47aa7b41-7fb3-47de-dfdb-35e4790281ec"
      },
      "execution_count": null,
      "outputs": [
        {
          "output_type": "stream",
          "name": "stderr",
          "text": [
            "WARNING:absl:Compiled the loaded model, but the compiled metrics have yet to be built. `model.compile_metrics` will be empty until you train or evaluate the model.\n"
          ]
        }
      ]
    },
    {
      "cell_type": "code",
      "source": [
        "converter = tf.lite.TFLiteConverter.from_keras_model(model_tfl)\n",
        "tflite_model = converter.convert() # h5 파일 .tflite 파일로 변환"
      ],
      "metadata": {
        "id": "4ob4bWxVOLke",
        "colab": {
          "base_uri": "https://localhost:8080/"
        },
        "outputId": "d8232db2-a240-4b02-e4d4-8abf51f26c84"
      },
      "execution_count": null,
      "outputs": [
        {
          "output_type": "stream",
          "name": "stdout",
          "text": [
            "Saved artifact at '/tmp/tmp6chf57xh'. The following endpoints are available:\n",
            "\n",
            "* Endpoint 'serve'\n",
            "  args_0 (POSITIONAL_ONLY): TensorSpec(shape=(None, 28, 28, 3), dtype=tf.float32, name='input_layer')\n",
            "Output Type:\n",
            "  TensorSpec(shape=(None, 2), dtype=tf.float32, name=None)\n",
            "Captures:\n",
            "  134981498079888: TensorSpec(shape=(), dtype=tf.resource, name=None)\n",
            "  134981498083584: TensorSpec(shape=(), dtype=tf.resource, name=None)\n",
            "  134981498176080: TensorSpec(shape=(), dtype=tf.resource, name=None)\n",
            "  134981498176256: TensorSpec(shape=(), dtype=tf.resource, name=None)\n",
            "  134981498187168: TensorSpec(shape=(), dtype=tf.resource, name=None)\n",
            "  134981498189456: TensorSpec(shape=(), dtype=tf.resource, name=None)\n",
            "  134981291640256: TensorSpec(shape=(), dtype=tf.resource, name=None)\n",
            "  134981291643072: TensorSpec(shape=(), dtype=tf.resource, name=None)\n",
            "  134981291643776: TensorSpec(shape=(), dtype=tf.resource, name=None)\n",
            "  134981291647296: TensorSpec(shape=(), dtype=tf.resource, name=None)\n"
          ]
        }
      ]
    },
    {
      "cell_type": "code",
      "source": [
        "with open('CNN_model.tflite', 'wb') as f:\n",
        "  f.write(tflite_model) # tflite 모델 저장."
      ],
      "metadata": {
        "id": "_CK6QEJTONqd"
      },
      "execution_count": null,
      "outputs": []
    },
    {
      "cell_type": "code",
      "source": [],
      "metadata": {
        "id": "7dY-8EDPUmuV"
      },
      "execution_count": null,
      "outputs": []
    }
  ]
}