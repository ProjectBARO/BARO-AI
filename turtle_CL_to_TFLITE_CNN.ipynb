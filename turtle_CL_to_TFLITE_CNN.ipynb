{
  "nbformat": 4,
  "nbformat_minor": 0,
  "metadata": {
    "colab": {
      "provenance": []
    },
    "kernelspec": {
      "name": "python3",
      "display_name": "Python 3"
    },
    "language_info": {
      "name": "python"
    }
  },
  "cells": [
    {
      "cell_type": "code",
      "execution_count": 1,
      "metadata": {
        "id": "bnrs_QgIKoCN"
      },
      "outputs": [],
      "source": [
        "import tensorflow as tf\n",
        "from tensorflow.keras import layers, models\n",
        "import os\n",
        "import cv2\n",
        "import numpy as np\n"
      ]
    },
    {
      "cell_type": "code",
      "source": [
        "# 경로지정\n",
        "answer_path = '/content/drive/MyDrive/GDSC_AI/BARO/source/answer_jpg'\n",
        "wrong_path = '/content/drive/MyDrive/GDSC_AI/BARO/source/wrong_jpg'"
      ],
      "metadata": {
        "id": "fD5TpK-lLGyd"
      },
      "execution_count": 4,
      "outputs": []
    },
    {
      "cell_type": "code",
      "source": [
        "## 전처리\n",
        "\n",
        "def load_and_preprocess_images(folder_path, label, img_size=(28, 28)):\n",
        "    images = []\n",
        "    labels = []\n",
        "\n",
        "    for img_file in os.listdir(folder_path):\n",
        "        img_path = os.path.join(folder_path, img_file)\n",
        "        img = cv2.imread(img_path)\n",
        "        img = cv2.resize(img, img_size)\n",
        "        img = img / 255.0  # 정규화\n",
        "        images.append(img)\n",
        "        labels.append(label)\n",
        "\n",
        "    return images, labels"
      ],
      "metadata": {
        "id": "_oFnRvTvLZ9S"
      },
      "execution_count": 5,
      "outputs": []
    },
    {
      "cell_type": "code",
      "source": [
        "# label 할당(1값: 정상, 0값: 거북이)\n",
        "\n",
        "answer_images, answer_labels = load_and_preprocess_images(answer_path, label=1)\n",
        "wrong_images, wrong_labels = load_and_preprocess_images(wrong_path, label=0)"
      ],
      "metadata": {
        "id": "x0ZOe4oQLfPB"
      },
      "execution_count": 6,
      "outputs": []
    },
    {
      "cell_type": "code",
      "source": [
        "images = np.array(answer_images + wrong_images)\n",
        "labels = np.array(answer_labels + wrong_labels)"
      ],
      "metadata": {
        "id": "LBLPJW70Lq-B"
      },
      "execution_count": 7,
      "outputs": []
    },
    {
      "cell_type": "code",
      "source": [
        "model = models.Sequential([\n",
        "    layers.Conv2D(32, (3, 3), activation='relu', input_shape=(28, 28, 3)),\n",
        "    layers.MaxPooling2D((2, 2)),\n",
        "    layers.Conv2D(64, (3, 3), activation='relu'),\n",
        "    layers.MaxPooling2D((2, 2)),\n",
        "    layers.Conv2D(64, (3, 3), activation='relu'),\n",
        "    layers.Flatten(),\n",
        "    layers.Dense(64, activation='relu'),\n",
        "    layers.Dense(2, activation='softmax')\n",
        "])"
      ],
      "metadata": {
        "id": "S8cnYfzBLyrL"
      },
      "execution_count": 8,
      "outputs": []
    },
    {
      "cell_type": "code",
      "source": [
        "model.compile(optimizer='adam',\n",
        "              loss='sparse_categorical_crossentropy',\n",
        "              metrics=['accuracy'])"
      ],
      "metadata": {
        "id": "fKFs3HP7L4y3"
      },
      "execution_count": 9,
      "outputs": []
    },
    {
      "cell_type": "code",
      "source": [
        "model.fit(images, labels, epochs = 15)"
      ],
      "metadata": {
        "colab": {
          "base_uri": "https://localhost:8080/"
        },
        "id": "qEakfRppL6mR",
        "outputId": "5ef39165-43fd-4ea2-9384-4e85ff02b16c"
      },
      "execution_count": 10,
      "outputs": [
        {
          "output_type": "stream",
          "name": "stdout",
          "text": [
            "Epoch 1/15\n",
            "10/10 [==============================] - 2s 30ms/step - loss: 0.6582 - accuracy: 0.6471\n",
            "Epoch 2/15\n",
            "10/10 [==============================] - 0s 29ms/step - loss: 0.6251 - accuracy: 0.6609\n",
            "Epoch 3/15\n",
            "10/10 [==============================] - 0s 27ms/step - loss: 0.5750 - accuracy: 0.7232\n",
            "Epoch 4/15\n",
            "10/10 [==============================] - 0s 29ms/step - loss: 0.4617 - accuracy: 0.8547\n",
            "Epoch 5/15\n",
            "10/10 [==============================] - 0s 27ms/step - loss: 0.3781 - accuracy: 0.8858\n",
            "Epoch 6/15\n",
            "10/10 [==============================] - 0s 31ms/step - loss: 0.3312 - accuracy: 0.8997\n",
            "Epoch 7/15\n",
            "10/10 [==============================] - 0s 27ms/step - loss: 0.2408 - accuracy: 0.9100\n",
            "Epoch 8/15\n",
            "10/10 [==============================] - 0s 29ms/step - loss: 0.1988 - accuracy: 0.9273\n",
            "Epoch 9/15\n",
            "10/10 [==============================] - 0s 26ms/step - loss: 0.2033 - accuracy: 0.9204\n",
            "Epoch 10/15\n",
            "10/10 [==============================] - 0s 26ms/step - loss: 0.1632 - accuracy: 0.9377\n",
            "Epoch 11/15\n",
            "10/10 [==============================] - 0s 29ms/step - loss: 0.1196 - accuracy: 0.9654\n",
            "Epoch 12/15\n",
            "10/10 [==============================] - 0s 27ms/step - loss: 0.0845 - accuracy: 0.9689\n",
            "Epoch 13/15\n",
            "10/10 [==============================] - 0s 28ms/step - loss: 0.0669 - accuracy: 0.9792\n",
            "Epoch 14/15\n",
            "10/10 [==============================] - 0s 26ms/step - loss: 0.0519 - accuracy: 0.9827\n",
            "Epoch 15/15\n",
            "10/10 [==============================] - 0s 32ms/step - loss: 0.0406 - accuracy: 0.9931\n"
          ]
        },
        {
          "output_type": "execute_result",
          "data": {
            "text/plain": [
              "<keras.src.callbacks.History at 0x78673c7663b0>"
            ]
          },
          "metadata": {},
          "execution_count": 10
        }
      ]
    },
    {
      "cell_type": "code",
      "source": [
        "model.save(\"CNN_model.h5\")"
      ],
      "metadata": {
        "colab": {
          "base_uri": "https://localhost:8080/"
        },
        "id": "7I4fBNgzL80D",
        "outputId": "ff62aef9-62ac-44c6-d42b-e84a706bdd4c"
      },
      "execution_count": 11,
      "outputs": [
        {
          "output_type": "stream",
          "name": "stderr",
          "text": [
            "/usr/local/lib/python3.10/dist-packages/keras/src/engine/training.py:3103: UserWarning: You are saving your model as an HDF5 file via `model.save()`. This file format is considered legacy. We recommend using instead the native Keras format, e.g. `model.save('my_model.keras')`.\n",
            "  saving_api.save_model(\n"
          ]
        }
      ]
    },
    {
      "cell_type": "code",
      "source": [
        "model_tfl = tf.keras.models.load_model('/content/CNN_model.h5')"
      ],
      "metadata": {
        "id": "xoA07Ap4NzmK"
      },
      "execution_count": 12,
      "outputs": []
    },
    {
      "cell_type": "code",
      "source": [
        "converter = tf.lite.TFLiteConverter.from_keras_model(model_tfl)\n",
        "tflite_model = converter.convert()"
      ],
      "metadata": {
        "id": "4ob4bWxVOLke"
      },
      "execution_count": 13,
      "outputs": []
    },
    {
      "cell_type": "code",
      "source": [
        "with open('CNN_model.tflite', 'wb') as f:\n",
        "  f.write(tflite_model)"
      ],
      "metadata": {
        "id": "_CK6QEJTONqd"
      },
      "execution_count": 14,
      "outputs": []
    },
    {
      "cell_type": "code",
      "source": [],
      "metadata": {
        "id": "XH1kprNaOTGS"
      },
      "execution_count": null,
      "outputs": []
    }
  ]
}