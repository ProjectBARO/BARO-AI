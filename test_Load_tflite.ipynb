{
  "nbformat": 4,
  "nbformat_minor": 0,
  "metadata": {
    "colab": {
      "provenance": []
    },
    "kernelspec": {
      "name": "python3",
      "display_name": "Python 3"
    },
    "language_info": {
      "name": "python"
    }
  },
  "cells": [
    {
      "cell_type": "code",
      "execution_count": null,
      "metadata": {
        "id": "A8r20qrgL428"
      },
      "outputs": [],
      "source": [
        "import tensorflow as tf\n",
        "from PIL import Image\n",
        "import numpy as np"
      ]
    },
    {
      "cell_type": "code",
      "source": [
        "# 모델 불러오는 거\n",
        "\n",
        "def load_model(model_path):\n",
        "    interpreter = tf.lite.Interpreter(model_path=model_path)\n",
        "    interpreter.allocate_tensors()\n",
        "    return interpreter"
      ],
      "metadata": {
        "id": "_CcNFbOgMq_-"
      },
      "execution_count": null,
      "outputs": []
    },
    {
      "cell_type": "code",
      "source": [
        "def preprocess_image(image_path, input_size):\n",
        "    image = Image.open(image_path) # 이미지 파일 불러오기\n",
        "    image = image.resize(input_size) # 사이즈 변환(밑에 함수 참고)\n",
        "    image = np.array(image, dtype=np.float32) # 배열 float 32 배열로 변환.\n",
        "    image = np.expand_dims(image, axis=0)\n",
        "    return image"
      ],
      "metadata": {
        "id": "NymIrJ3iMuL1"
      },
      "execution_count": null,
      "outputs": []
    },
    {
      "cell_type": "code",
      "source": [
        "def predict(interpreter, image):\n",
        "\n",
        "    input_details = interpreter.get_input_details() # 입력 텐서 정보 갖고 오기.\n",
        "    output_details = interpreter.get_output_details() # 출력 텐서 정보 갖고 오기.\n",
        "\n",
        "    interpreter.set_tensor(input_details[0]['index'], image) # 입력 이미지. 변환 해준거.(텐서 형태 변환)\n",
        "    interpreter.invoke() # 위의 과정 적용 시킨 거.\n",
        "    output_data = interpreter.get_tensor(output_details[0]['index']) # 이건 출력 이미지. 이것도 텐서 형태로 변환.\n",
        "    return output_data"
      ],
      "metadata": {
        "id": "GdOf61WaMvcl"
      },
      "execution_count": null,
      "outputs": []
    },
    {
      "cell_type": "code",
      "source": [
        "model_path = '/content/CNN_model.tflite'\n",
        "image_path = '/content/drive/MyDrive/GDSC_AI/BARO/source/answer_jpg/answer_1.jpg'"
      ],
      "metadata": {
        "id": "GCgOpXpxMx3l"
      },
      "execution_count": null,
      "outputs": []
    },
    {
      "cell_type": "code",
      "source": [
        "interpreter = load_model(model_path)\n",
        "input_size = interpreter.get_input_details()[0]['shape'][1:3] # 밑에 텍스트 참고.\n",
        "preprocessed_image = preprocess_image(image_path, input_size)"
      ],
      "metadata": {
        "id": "4pG7_KkxNAHo"
      },
      "execution_count": null,
      "outputs": []
    },
    {
      "cell_type": "markdown",
      "source": [
        "input_size = interpreter.get_input_details()[0]['shape'][1:3]\n",
        "\n",
        "</br>\n",
        "[1:3]으로 높이, 너비 추출\n",
        "\n",
        "</br>\n",
        "[0]이 첫번째 이미지 받아온다는 거. 그냥 어짜피 이미지 한개 넣은거라서 상관은 없음.\n",
        "\n",
        "['shape']이 [배치 크기, 높이, 너비, 채널] 뽑아내는 거.\n",
        "</br>\n",
        "근데 여기서는 배치 크기는 생각 안해도 됨. 어짜피 모델 학습할 때 쓰는 개념이라서\n",
        "채널도 컬러 이미지가 3채널 값이라서 고려 x\n",
        "</br>\n",
        "</br>\n",
        "\n",
        "#### 결론:\n",
        " 28 * 28 사이즈 이미지로 학습한 모델이라서 내쪽에서는 이미지 사이즈만 조절하면 됐다.\n",
        "\n"
      ],
      "metadata": {
        "id": "ryQBE_Y0cmQo"
      }
    },
    {
      "cell_type": "code",
      "source": [
        "prediction = predict(interpreter, preprocessed_image)"
      ],
      "metadata": {
        "id": "rrLWmHjtNDWO"
      },
      "execution_count": null,
      "outputs": []
    },
    {
      "cell_type": "code",
      "source": [
        "print(\"Prediction: \", prediction)"
      ],
      "metadata": {
        "colab": {
          "base_uri": "https://localhost:8080/"
        },
        "id": "Iyoy4mCNONVu",
        "outputId": "bb7ef9ab-0a18-4eb1-dfd6-4790e00178ae"
      },
      "execution_count": null,
      "outputs": [
        {
          "output_type": "stream",
          "name": "stdout",
          "text": [
            "Prediction:  [[1. 0.]]\n"
          ]
        }
      ]
    },
    {
      "cell_type": "code",
      "source": [],
      "metadata": {
        "id": "9IxrCgL_OOzP"
      },
      "execution_count": null,
      "outputs": []
    }
  ]
}