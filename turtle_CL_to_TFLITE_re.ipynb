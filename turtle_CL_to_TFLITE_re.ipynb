{
  "nbformat": 4,
  "nbformat_minor": 0,
  "metadata": {
    "colab": {
      "provenance": []
    },
    "kernelspec": {
      "name": "python3",
      "display_name": "Python 3"
    },
    "language_info": {
      "name": "python"
    }
  },
  "cells": [
    {
      "cell_type": "code",
      "execution_count": null,
      "metadata": {
        "id": "dMfNA2BiE7M5"
      },
      "outputs": [],
      "source": [
        "import pandas as pd\n",
        "from sklearn.model_selection import train_test_split\n",
        "from sklearn.preprocessing import LabelEncoder\n",
        "from tensorflow.keras.models import Sequential\n",
        "from tensorflow.keras.layers import Dense\n",
        "from tensorflow.keras.utils import to_categorical\n",
        "\n",
        "import tensorflow as tf"
      ]
    },
    {
      "cell_type": "code",
      "source": [
        "data = pd.read_csv('/content/drive/MyDrive/GDSC_AI/SC_test/turtle_neck_AddAngle.csv')"
      ],
      "metadata": {
        "id": "Cx_2nPnbFP3U"
      },
      "execution_count": null,
      "outputs": []
    },
    {
      "cell_type": "code",
      "source": [
        "X = data.drop('turtleneck_status', axis=1)\n",
        "y = data['turtleneck_status']"
      ],
      "metadata": {
        "id": "wrwkIuqtFWya"
      },
      "execution_count": null,
      "outputs": []
    },
    {
      "cell_type": "code",
      "source": [
        "X_train, X_test, y_train, y_test = train_test_split(X, y, test_size=0.2, random_state=42)"
      ],
      "metadata": {
        "id": "so5F1iobFrs9"
      },
      "execution_count": null,
      "outputs": []
    },
    {
      "cell_type": "code",
      "source": [
        "label_encoder = LabelEncoder()\n",
        "y_encoded = label_encoder.fit_transform(y_train)"
      ],
      "metadata": {
        "id": "BeMCxuv4FtF1"
      },
      "execution_count": null,
      "outputs": []
    },
    {
      "cell_type": "code",
      "source": [
        "y_categorical = to_categorical(y_encoded) # one-hot"
      ],
      "metadata": {
        "id": "OBy4hLelFuPh"
      },
      "execution_count": null,
      "outputs": []
    },
    {
      "cell_type": "code",
      "source": [
        "model = Sequential()\n",
        "model.add(Dense(32, input_shape=(X_train.shape[1],), activation='relu'))\n",
        "model.add(Dense(16, activation='relu'))\n",
        "model.add(Dense(y_categorical.shape[1], activation='softmax'))"
      ],
      "metadata": {
        "id": "nnUB0fV8F5Qd"
      },
      "execution_count": null,
      "outputs": []
    },
    {
      "cell_type": "code",
      "source": [
        "model.compile(optimizer='adam', loss='categorical_crossentropy', metrics=['accuracy'])"
      ],
      "metadata": {
        "id": "F1unRUCdF8Ax"
      },
      "execution_count": null,
      "outputs": []
    },
    {
      "cell_type": "code",
      "source": [
        "model.fit(X_train, y_categorical, epochs=10, batch_size=10)"
      ],
      "metadata": {
        "colab": {
          "base_uri": "https://localhost:8080/"
        },
        "id": "lQ1Byn20F9Vl",
        "outputId": "a6568267-7d0a-4b9d-f68c-1711b672cc8e"
      },
      "execution_count": null,
      "outputs": [
        {
          "output_type": "stream",
          "name": "stdout",
          "text": [
            "Epoch 1/10\n",
            "1007/1007 [==============================] - 6s 4ms/step - loss: 0.1146 - accuracy: 0.9720\n",
            "Epoch 2/10\n",
            "1007/1007 [==============================] - 6s 6ms/step - loss: 0.0757 - accuracy: 0.9835\n",
            "Epoch 3/10\n",
            "1007/1007 [==============================] - 5s 5ms/step - loss: 0.0745 - accuracy: 0.9835\n",
            "Epoch 4/10\n",
            "1007/1007 [==============================] - 5s 5ms/step - loss: 0.0720 - accuracy: 0.9835\n",
            "Epoch 5/10\n",
            "1007/1007 [==============================] - 2s 2ms/step - loss: 0.0692 - accuracy: 0.9835\n",
            "Epoch 6/10\n",
            "1007/1007 [==============================] - 2s 2ms/step - loss: 0.0649 - accuracy: 0.9835\n",
            "Epoch 7/10\n",
            "1007/1007 [==============================] - 2s 2ms/step - loss: 0.0607 - accuracy: 0.9836\n",
            "Epoch 8/10\n",
            "1007/1007 [==============================] - 3s 3ms/step - loss: 0.0562 - accuracy: 0.9839\n",
            "Epoch 9/10\n",
            "1007/1007 [==============================] - 2s 2ms/step - loss: 0.0513 - accuracy: 0.9866\n",
            "Epoch 10/10\n",
            "1007/1007 [==============================] - 2s 2ms/step - loss: 0.0482 - accuracy: 0.9890\n"
          ]
        },
        {
          "output_type": "execute_result",
          "data": {
            "text/plain": [
              "<keras.src.callbacks.History at 0x7cd8fc5c3e80>"
            ]
          },
          "metadata": {},
          "execution_count": 9
        }
      ]
    },
    {
      "cell_type": "code",
      "source": [
        "model.save('CL_turtleneck_model.h5')"
      ],
      "metadata": {
        "colab": {
          "base_uri": "https://localhost:8080/"
        },
        "id": "7sk1e2inF-Oz",
        "outputId": "ce46785d-1c9f-475a-d5ca-580c19e99af1"
      },
      "execution_count": null,
      "outputs": [
        {
          "output_type": "stream",
          "name": "stderr",
          "text": [
            "/usr/local/lib/python3.10/dist-packages/keras/src/engine/training.py:3103: UserWarning: You are saving your model as an HDF5 file via `model.save()`. This file format is considered legacy. We recommend using instead the native Keras format, e.g. `model.save('my_model.keras')`.\n",
            "  saving_api.save_model(\n"
          ]
        }
      ]
    },
    {
      "cell_type": "code",
      "source": [
        "y_test_encoded = label_encoder.transform(y_test)\n",
        "y_test_categorical = to_categorical(y_test_encoded)"
      ],
      "metadata": {
        "id": "u5ZLUGsMGJey"
      },
      "execution_count": null,
      "outputs": []
    },
    {
      "cell_type": "code",
      "source": [
        "loss, accuracy = model.evaluate(X_test, y_test_categorical)"
      ],
      "metadata": {
        "colab": {
          "base_uri": "https://localhost:8080/"
        },
        "id": "gnG1agf7GM0i",
        "outputId": "51d3f269-97bd-423f-a457-6eb39c6b4032"
      },
      "execution_count": null,
      "outputs": [
        {
          "output_type": "stream",
          "name": "stdout",
          "text": [
            "79/79 [==============================] - 0s 2ms/step - loss: 0.0536 - accuracy: 0.9881\n"
          ]
        }
      ]
    },
    {
      "cell_type": "code",
      "source": [
        "model_tfl = tf.keras.models.load_model('/content/CL_turtleneck_model.h5')"
      ],
      "metadata": {
        "id": "a7H5JrCeGN5e"
      },
      "execution_count": null,
      "outputs": []
    },
    {
      "cell_type": "code",
      "source": [
        "converter = tf.lite.TFLiteConverter.from_keras_model(model_tfl)\n",
        "tflite_model = converter.convert()"
      ],
      "metadata": {
        "id": "Pb6teqImGvXE"
      },
      "execution_count": null,
      "outputs": []
    },
    {
      "cell_type": "code",
      "source": [
        "with open('turtle_CL_model.tflite', 'wb') as f:\n",
        "  f.write(tflite_model)"
      ],
      "metadata": {
        "id": "ROV8vdOIG1-T"
      },
      "execution_count": null,
      "outputs": []
    }
  ]
}