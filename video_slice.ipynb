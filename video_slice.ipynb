{
  "cells": [
    {
      "cell_type": "code",
      "execution_count": null,
      "metadata": {
        "id": "_nwMptGU_Yb2"
      },
      "outputs": [],
      "source": [
        "import cv2\n",
        "import os\n",
        "import zipfile"
      ]
    },
    {
      "cell_type": "code",
      "execution_count": null,
      "metadata": {
        "id": "obPXbL_VAVpn"
      },
      "outputs": [],
      "source": [
        "video_path = '/content/drive/MyDrive/GDSC_AI/BARO/source/pose_estimation_wrong.mp4'"
      ]
    },
    {
      "cell_type": "code",
      "execution_count": null,
      "metadata": {
        "id": "6xebYPLwA9XB"
      },
      "outputs": [],
      "source": [
        "save_path = 'wrong_images'\n",
        "if not os.path.exists(save_path):\n",
        "    os.makedirs(save_path)"
      ]
    },
    {
      "cell_type": "code",
      "execution_count": null,
      "metadata": {
        "id": "BwsN1_XcCn7n"
      },
      "outputs": [],
      "source": [
        "image_name_format = 'wrong_{}.jpg'\n",
        "\n",
        "cap = cv2.VideoCapture(video_path)\n",
        "\n",
        "\n",
        "fps = cap.get(cv2.CAP_PROP_FPS)\n",
        "\n",
        "\n",
        "seconds = 0.5 # 프레임 0.5초 단위\n",
        "frame_save_interval = int(fps * seconds)"
      ]
    },
    {
      "cell_type": "markdown",
      "metadata": {},
      "source": [
        "영상 데이터 불균형으로 인해 프레임 단위 </br>\n",
        "answer는 1s, wrong은 0.5s\n",
        "\n",
        "</br>\n",
        "\n",
        "불균형 문제 수정 예정"
      ]
    },
    {
      "cell_type": "code",
      "execution_count": null,
      "metadata": {
        "id": "hY8tKrMxC2lr"
      },
      "outputs": [],
      "source": [
        "count = 0\n",
        "frame_count = 0\n",
        "\n",
        "while cap.isOpened():\n",
        "    success, frame = cap.read()\n",
        "\n",
        "    if not success:\n",
        "        break\n",
        "\n",
        "    if frame_count % frame_save_interval == 0:\n",
        "        save_name = image_name_format.format(count)\n",
        "        cv2.imwrite(os.path.join(save_path, save_name), frame)\n",
        "        count += 1\n",
        "\n",
        "    frame_count += 1\n",
        "\n",
        "cap.release()"
      ]
    },
    {
      "cell_type": "code",
      "execution_count": null,
      "metadata": {
        "id": "UeUZtq6zC4_b"
      },
      "outputs": [],
      "source": [
        "folder_path = '/content/wrong_images'\n",
        "\n",
        "\n",
        "zip_path = 'wrong_images.zip'\n",
        "\n",
        "with zipfile.ZipFile(zip_path, 'w') as zipf:\n",
        "    for root, dirs, files in os.walk(folder_path):\n",
        "        for file in files:\n",
        "            file_path = os.path.join(root, file)\n",
        "            zipf.write(file_path, os.path.relpath(file_path, folder_path))"
      ]
    }
  ],
  "metadata": {
    "colab": {
      "provenance": []
    },
    "kernelspec": {
      "display_name": "Python 3",
      "name": "python3"
    },
    "language_info": {
      "name": "python"
    }
  },
  "nbformat": 4,
  "nbformat_minor": 0
}
